{
  "nbformat": 4,
  "nbformat_minor": 0,
  "metadata": {
    "colab": {
      "provenance": [],
      "authorship_tag": "ABX9TyNLcLSsLq3TGnnstaC/Pp1e",
      "include_colab_link": true
    },
    "kernelspec": {
      "name": "python3",
      "display_name": "Python 3"
    },
    "language_info": {
      "name": "python"
    }
  },
  "cells": [
    {
      "cell_type": "markdown",
      "metadata": {
        "id": "view-in-github",
        "colab_type": "text"
      },
      "source": [
        "<a href=\"https://colab.research.google.com/github/wewerthonc/stock_prediction_gans/blob/main/Stock_market_prection.ipynb\" target=\"_parent\"><img src=\"https://colab.research.google.com/assets/colab-badge.svg\" alt=\"Open In Colab\"/></a>"
      ]
    },
    {
      "cell_type": "code",
      "execution_count": 15,
      "metadata": {
        "id": "u-SbBzV8P7u6"
      },
      "outputs": [],
      "source": [
        "from google.colab import drive\n",
        "import matplotlib.pyplot as plt\n",
        "import pandas as pd\n",
        "import numpy as np\n",
        "import seaborn as sns\n",
        "import tensorflow as tf"
      ]
    },
    {
      "cell_type": "code",
      "source": [
        "drive.mount('/content/MyDrive')\n",
        "PATH_BASE = '/content/MyDrive/MyDrive/Datasets/'"
      ],
      "metadata": {
        "colab": {
          "base_uri": "https://localhost:8080/"
        },
        "id": "WIuQ_OguQbUj",
        "outputId": "3bdd9f67-3279-45f1-b8b3-fe6bdabd249f"
      },
      "execution_count": 16,
      "outputs": [
        {
          "output_type": "stream",
          "name": "stdout",
          "text": [
            "Drive already mounted at /content/MyDrive; to attempt to forcibly remount, call drive.mount(\"/content/MyDrive\", force_remount=True).\n"
          ]
        }
      ]
    },
    {
      "cell_type": "code",
      "source": [
        "# Read CSV file\n",
        "stock_df = pd.read_csv(PATH_BASE + 'dados_petroleo_2021.csv', index_col = ['Date'])"
      ],
      "metadata": {
        "id": "z8FQBdZyR5h9"
      },
      "execution_count": 17,
      "outputs": []
    },
    {
      "cell_type": "code",
      "source": [
        "stock_df.info()"
      ],
      "metadata": {
        "colab": {
          "base_uri": "https://localhost:8080/"
        },
        "id": "eBk496GgWuEJ",
        "outputId": "fe9495a0-4661-47f8-8365-faae9cc92b65"
      },
      "execution_count": 18,
      "outputs": [
        {
          "output_type": "stream",
          "name": "stdout",
          "text": [
            "<class 'pandas.core.frame.DataFrame'>\n",
            "Index: 1738 entries, 2015-01-02 to 2021-12-30\n",
            "Data columns (total 6 columns):\n",
            " #   Column     Non-Null Count  Dtype  \n",
            "---  ------     --------------  -----  \n",
            " 0   Open       1738 non-null   float64\n",
            " 1   High       1738 non-null   float64\n",
            " 2   Low        1738 non-null   float64\n",
            " 3   Close      1738 non-null   float64\n",
            " 4   Adj Close  1738 non-null   float64\n",
            " 5   Volume     1738 non-null   int64  \n",
            "dtypes: float64(5), int64(1)\n",
            "memory usage: 95.0+ KB\n"
          ]
        }
      ]
    },
    {
      "cell_type": "code",
      "source": [
        "stock_df.describe()"
      ],
      "metadata": {
        "colab": {
          "base_uri": "https://localhost:8080/",
          "height": 300
        },
        "id": "XIM4o2EmRcSK",
        "outputId": "6abafc17-5da1-43d4-a015-b3bb5996ac4a"
      },
      "execution_count": 19,
      "outputs": [
        {
          "output_type": "execute_result",
          "data": {
            "text/plain": [
              "              Open         High          Low        Close    Adj Close  \\\n",
              "count  1738.000000  1738.000000  1738.000000  1738.000000  1738.000000   \n",
              "mean     18.949827    19.239695    18.633970    18.925161     7.814365   \n",
              "std       7.326365     7.384939     7.259855     7.324068     3.302288   \n",
              "min       4.200000     4.270000     4.120000     4.200000     1.647214   \n",
              "25%      13.112500    13.322500    12.870000    13.060000     5.126951   \n",
              "50%      18.990000    19.365001    18.620001    18.965000     7.584751   \n",
              "75%      26.177500    26.497500    25.777501    26.100000    10.803513   \n",
              "max      31.459999    31.760000    30.629999    31.120001    15.442681   \n",
              "\n",
              "             Volume  \n",
              "count  1.738000e+03  \n",
              "mean   6.048244e+07  \n",
              "std    3.301638e+07  \n",
              "min    0.000000e+00  \n",
              "25%    4.016878e+07  \n",
              "50%    5.379285e+07  \n",
              "75%    7.226125e+07  \n",
              "max    4.902304e+08  "
            ],
            "text/html": [
              "\n",
              "  <div id=\"df-02b59ffa-5b37-493e-ae16-cb8464172c31\">\n",
              "    <div class=\"colab-df-container\">\n",
              "      <div>\n",
              "<style scoped>\n",
              "    .dataframe tbody tr th:only-of-type {\n",
              "        vertical-align: middle;\n",
              "    }\n",
              "\n",
              "    .dataframe tbody tr th {\n",
              "        vertical-align: top;\n",
              "    }\n",
              "\n",
              "    .dataframe thead th {\n",
              "        text-align: right;\n",
              "    }\n",
              "</style>\n",
              "<table border=\"1\" class=\"dataframe\">\n",
              "  <thead>\n",
              "    <tr style=\"text-align: right;\">\n",
              "      <th></th>\n",
              "      <th>Open</th>\n",
              "      <th>High</th>\n",
              "      <th>Low</th>\n",
              "      <th>Close</th>\n",
              "      <th>Adj Close</th>\n",
              "      <th>Volume</th>\n",
              "    </tr>\n",
              "  </thead>\n",
              "  <tbody>\n",
              "    <tr>\n",
              "      <th>count</th>\n",
              "      <td>1738.000000</td>\n",
              "      <td>1738.000000</td>\n",
              "      <td>1738.000000</td>\n",
              "      <td>1738.000000</td>\n",
              "      <td>1738.000000</td>\n",
              "      <td>1.738000e+03</td>\n",
              "    </tr>\n",
              "    <tr>\n",
              "      <th>mean</th>\n",
              "      <td>18.949827</td>\n",
              "      <td>19.239695</td>\n",
              "      <td>18.633970</td>\n",
              "      <td>18.925161</td>\n",
              "      <td>7.814365</td>\n",
              "      <td>6.048244e+07</td>\n",
              "    </tr>\n",
              "    <tr>\n",
              "      <th>std</th>\n",
              "      <td>7.326365</td>\n",
              "      <td>7.384939</td>\n",
              "      <td>7.259855</td>\n",
              "      <td>7.324068</td>\n",
              "      <td>3.302288</td>\n",
              "      <td>3.301638e+07</td>\n",
              "    </tr>\n",
              "    <tr>\n",
              "      <th>min</th>\n",
              "      <td>4.200000</td>\n",
              "      <td>4.270000</td>\n",
              "      <td>4.120000</td>\n",
              "      <td>4.200000</td>\n",
              "      <td>1.647214</td>\n",
              "      <td>0.000000e+00</td>\n",
              "    </tr>\n",
              "    <tr>\n",
              "      <th>25%</th>\n",
              "      <td>13.112500</td>\n",
              "      <td>13.322500</td>\n",
              "      <td>12.870000</td>\n",
              "      <td>13.060000</td>\n",
              "      <td>5.126951</td>\n",
              "      <td>4.016878e+07</td>\n",
              "    </tr>\n",
              "    <tr>\n",
              "      <th>50%</th>\n",
              "      <td>18.990000</td>\n",
              "      <td>19.365001</td>\n",
              "      <td>18.620001</td>\n",
              "      <td>18.965000</td>\n",
              "      <td>7.584751</td>\n",
              "      <td>5.379285e+07</td>\n",
              "    </tr>\n",
              "    <tr>\n",
              "      <th>75%</th>\n",
              "      <td>26.177500</td>\n",
              "      <td>26.497500</td>\n",
              "      <td>25.777501</td>\n",
              "      <td>26.100000</td>\n",
              "      <td>10.803513</td>\n",
              "      <td>7.226125e+07</td>\n",
              "    </tr>\n",
              "    <tr>\n",
              "      <th>max</th>\n",
              "      <td>31.459999</td>\n",
              "      <td>31.760000</td>\n",
              "      <td>30.629999</td>\n",
              "      <td>31.120001</td>\n",
              "      <td>15.442681</td>\n",
              "      <td>4.902304e+08</td>\n",
              "    </tr>\n",
              "  </tbody>\n",
              "</table>\n",
              "</div>\n",
              "      <button class=\"colab-df-convert\" onclick=\"convertToInteractive('df-02b59ffa-5b37-493e-ae16-cb8464172c31')\"\n",
              "              title=\"Convert this dataframe to an interactive table.\"\n",
              "              style=\"display:none;\">\n",
              "        \n",
              "  <svg xmlns=\"http://www.w3.org/2000/svg\" height=\"24px\"viewBox=\"0 0 24 24\"\n",
              "       width=\"24px\">\n",
              "    <path d=\"M0 0h24v24H0V0z\" fill=\"none\"/>\n",
              "    <path d=\"M18.56 5.44l.94 2.06.94-2.06 2.06-.94-2.06-.94-.94-2.06-.94 2.06-2.06.94zm-11 1L8.5 8.5l.94-2.06 2.06-.94-2.06-.94L8.5 2.5l-.94 2.06-2.06.94zm10 10l.94 2.06.94-2.06 2.06-.94-2.06-.94-.94-2.06-.94 2.06-2.06.94z\"/><path d=\"M17.41 7.96l-1.37-1.37c-.4-.4-.92-.59-1.43-.59-.52 0-1.04.2-1.43.59L10.3 9.45l-7.72 7.72c-.78.78-.78 2.05 0 2.83L4 21.41c.39.39.9.59 1.41.59.51 0 1.02-.2 1.41-.59l7.78-7.78 2.81-2.81c.8-.78.8-2.07 0-2.86zM5.41 20L4 18.59l7.72-7.72 1.47 1.35L5.41 20z\"/>\n",
              "  </svg>\n",
              "      </button>\n",
              "      \n",
              "  <style>\n",
              "    .colab-df-container {\n",
              "      display:flex;\n",
              "      flex-wrap:wrap;\n",
              "      gap: 12px;\n",
              "    }\n",
              "\n",
              "    .colab-df-convert {\n",
              "      background-color: #E8F0FE;\n",
              "      border: none;\n",
              "      border-radius: 50%;\n",
              "      cursor: pointer;\n",
              "      display: none;\n",
              "      fill: #1967D2;\n",
              "      height: 32px;\n",
              "      padding: 0 0 0 0;\n",
              "      width: 32px;\n",
              "    }\n",
              "\n",
              "    .colab-df-convert:hover {\n",
              "      background-color: #E2EBFA;\n",
              "      box-shadow: 0px 1px 2px rgba(60, 64, 67, 0.3), 0px 1px 3px 1px rgba(60, 64, 67, 0.15);\n",
              "      fill: #174EA6;\n",
              "    }\n",
              "\n",
              "    [theme=dark] .colab-df-convert {\n",
              "      background-color: #3B4455;\n",
              "      fill: #D2E3FC;\n",
              "    }\n",
              "\n",
              "    [theme=dark] .colab-df-convert:hover {\n",
              "      background-color: #434B5C;\n",
              "      box-shadow: 0px 1px 3px 1px rgba(0, 0, 0, 0.15);\n",
              "      filter: drop-shadow(0px 1px 2px rgba(0, 0, 0, 0.3));\n",
              "      fill: #FFFFFF;\n",
              "    }\n",
              "  </style>\n",
              "\n",
              "      <script>\n",
              "        const buttonEl =\n",
              "          document.querySelector('#df-02b59ffa-5b37-493e-ae16-cb8464172c31 button.colab-df-convert');\n",
              "        buttonEl.style.display =\n",
              "          google.colab.kernel.accessAllowed ? 'block' : 'none';\n",
              "\n",
              "        async function convertToInteractive(key) {\n",
              "          const element = document.querySelector('#df-02b59ffa-5b37-493e-ae16-cb8464172c31');\n",
              "          const dataTable =\n",
              "            await google.colab.kernel.invokeFunction('convertToInteractive',\n",
              "                                                     [key], {});\n",
              "          if (!dataTable) return;\n",
              "\n",
              "          const docLinkHtml = 'Like what you see? Visit the ' +\n",
              "            '<a target=\"_blank\" href=https://colab.research.google.com/notebooks/data_table.ipynb>data table notebook</a>'\n",
              "            + ' to learn more about interactive tables.';\n",
              "          element.innerHTML = '';\n",
              "          dataTable['output_type'] = 'display_data';\n",
              "          await google.colab.output.renderOutput(dataTable, element);\n",
              "          const docLink = document.createElement('div');\n",
              "          docLink.innerHTML = docLinkHtml;\n",
              "          element.appendChild(docLink);\n",
              "        }\n",
              "      </script>\n",
              "    </div>\n",
              "  </div>\n",
              "  "
            ]
          },
          "metadata": {},
          "execution_count": 19
        }
      ]
    },
    {
      "cell_type": "markdown",
      "source": [
        "Checking stationarity"
      ],
      "metadata": {
        "id": "gMR2h0FJRi-s"
      }
    },
    {
      "cell_type": "code",
      "source": [
        "from statsmodels.tsa.stattools import adfuller\n",
        "\n",
        "# Iterate over each column in the stock_df DataFrame, excluding the last column\n",
        "for column in stock_df.columns[:-1]:\n",
        "   \n",
        "    # Execute the Augmented Dickey-Fuller (ADF) test on the current column\n",
        "    result = adfuller(stock_df[column])\n",
        "  \n",
        "    # Store the p-value from the ADF test result\n",
        "    p_value = result[1]\n",
        "\n",
        "    # Print the p-value along with the column name\n",
        "    print(f'Valor-p {column}: {p_value}')"
      ],
      "metadata": {
        "id": "W7RFbxBFRmco"
      },
      "execution_count": null,
      "outputs": []
    },
    {
      "cell_type": "markdown",
      "source": [
        "Se o valor-p for maior que o nível de significância, não há evidências estatísticas suficientes para rejeitar a hipótese nula. Nesse caso, você não tem evidências de que a série é estacionária."
      ],
      "metadata": {
        "id": "MK0PZgOCULzF"
      }
    },
    {
      "cell_type": "code",
      "source": [
        "# Create a new DataFrame excluding the last column\n",
        "stock_stationary_df = stock_df.iloc[1:].copy()\n",
        "\n",
        "# Iterate over each column in stock_df, excluding the last column\n",
        "for column in stock_df.columns[:-1]:\n",
        "    \n",
        "    # Calculate the first-order difference of the current column\n",
        "    stock_stationary_df[column] = np.diff(stock_df[column])"
      ],
      "metadata": {
        "id": "KkjI5IKhR5KD"
      },
      "execution_count": 24,
      "outputs": []
    }
  ]
}